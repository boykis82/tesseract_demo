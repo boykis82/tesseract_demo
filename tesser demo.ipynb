{
 "cells": [
  {
   "cell_type": "code",
   "execution_count": 1,
   "metadata": {},
   "outputs": [],
   "source": [
    "try:\n",
    "    from PIL import Image\n",
    "except ImportError:\n",
    "    import Image\n",
    "import pytesseract as ocr\n",
    "import pandas as pd\n",
    "\n",
    "%matplotlib inline  "
   ]
  },
  {
   "cell_type": "code",
   "execution_count": 2,
   "metadata": {},
   "outputs": [],
   "source": [
    "options_psm = [f'--psm {i} --oem 1 ' for i in range(14)]\n",
    "options_lang = [' -l kor', ' -l kor+eng']\n",
    "\n",
    "psm_desc = [\n",
    "    'Orientation and script detection (OSD) only.',\n",
    "    'Automatic page segmentation with OSD.',\n",
    "    'Automatic page segmentation, but no OSD, or OCR.',\n",
    "    'Fully automatic page segmentation, but no OSD. (Default)',\n",
    "    'Assume a single column of text of variable sizes.',\n",
    "    'Assume a single uniform block of vertically aligned text.',\n",
    "    'Assume a single uniform block of text.',\n",
    "    'Treat the image as a single text line.',\n",
    "    'Treat the image as a single word.',\n",
    "    'Treat the image as a single word in a circle.',\n",
    "    'Treat the image as a single character.',\n",
    "    'Sparse text. Find as much text as possible in no particular order.',\n",
    "    'Sparse text with OSD.',\n",
    "    'Raw line. Treat the image as a single text line,bypassing hacks that are Tesseract-specific.'    \n",
    "]"
   ]
  },
  {
   "cell_type": "code",
   "execution_count": 3,
   "metadata": {},
   "outputs": [],
   "source": [
    "ocr.pytesseract.tesseract_cmd = r\"C:\\Program Files (x86)\\Tesseract-OCR\\tesseract.exe\""
   ]
  },
  {
   "cell_type": "code",
   "execution_count": 4,
   "metadata": {},
   "outputs": [
    {
     "data": {
      "text/plain": [
       "'\\n--oem 1           \\n  0    Legacy engine only.\\n  1    Neural nets LSTM engine only.\\n  2    Legacy + LSTM engines.\\n  3    Default, based on what is available.                        \\n'"
      ]
     },
     "execution_count": 4,
     "metadata": {},
     "output_type": "execute_result"
    }
   ],
   "source": [
    "'''\n",
    "--oem 1           \n",
    "  0    Legacy engine only.\n",
    "  1    Neural nets LSTM engine only.\n",
    "  2    Legacy + LSTM engines.\n",
    "  3    Default, based on what is available.                        \n",
    "'''"
   ]
  },
  {
   "cell_type": "code",
   "execution_count": 5,
   "metadata": {},
   "outputs": [],
   "source": [
    "def write_to_excel(df, output, sheet='Sheet1'):\n",
    "    writer = pd.ExcelWriter(output)\n",
    "    df.to_excel(writer, sheet)\n",
    "    writer.save()"
   ]
  },
  {
   "cell_type": "code",
   "execution_count": 6,
   "metadata": {},
   "outputs": [],
   "source": [
    "def simulate_var_opt(img, output):\n",
    "    df = pd.DataFrame({'psm_desc': psm_desc, 'result' + options_lang[0]: np.nan, 'result' + options_lang[1]: np.nan}, index=range(14))\n",
    "\n",
    "    for i, p in enumerate(options_psm):    \n",
    "        for l in options_lang:\n",
    "            try:\n",
    "                print(p+l)\n",
    "                df.loc[i, 'result' + l] = ocr.image_to_string(img, config=p+l)\n",
    "            except FileNotFoundError:\n",
    "                pass\n",
    "    \n",
    "    write_to_excel(df, output)"
   ]
  },
  {
   "cell_type": "code",
   "execution_count": 7,
   "metadata": {},
   "outputs": [
    {
     "name": "stdout",
     "output_type": "stream",
     "text": [
      "--psm 0 --oem 1  -l kor\n",
      "--psm 0 --oem 1  -l kor+eng\n",
      "--psm 1 --oem 1  -l kor\n",
      "--psm 1 --oem 1  -l kor+eng\n",
      "--psm 2 --oem 1  -l kor\n",
      "--psm 2 --oem 1  -l kor+eng\n",
      "--psm 3 --oem 1  -l kor\n",
      "--psm 3 --oem 1  -l kor+eng\n",
      "--psm 4 --oem 1  -l kor\n",
      "--psm 4 --oem 1  -l kor+eng\n",
      "--psm 5 --oem 1  -l kor\n",
      "--psm 5 --oem 1  -l kor+eng\n",
      "--psm 6 --oem 1  -l kor\n",
      "--psm 6 --oem 1  -l kor+eng\n",
      "--psm 7 --oem 1  -l kor\n",
      "--psm 7 --oem 1  -l kor+eng\n",
      "--psm 8 --oem 1  -l kor\n",
      "--psm 8 --oem 1  -l kor+eng\n",
      "--psm 9 --oem 1  -l kor\n",
      "--psm 9 --oem 1  -l kor+eng\n",
      "--psm 10 --oem 1  -l kor\n",
      "--psm 10 --oem 1  -l kor+eng\n",
      "--psm 11 --oem 1  -l kor\n",
      "--psm 11 --oem 1  -l kor+eng\n",
      "--psm 12 --oem 1  -l kor\n",
      "--psm 12 --oem 1  -l kor+eng\n",
      "--psm 13 --oem 1  -l kor\n",
      "--psm 13 --oem 1  -l kor+eng\n"
     ]
    },
    {
     "data": {
      "image/png": "[encoded data removed]",
      "text/plain": [
       "<Figure size 432x288 with 1 Axes>"
      ]
     },
     "metadata": {
      "needs_background": "light"
     },
     "output_type": "display_data"
    }
   ],
   "source": [
    "img = Image.open('./img_sample/bl2.jpg')\n",
    "dc_img = img.crop((0,550,img.width,1920))\n",
    "plt.imshow(dc_img)\n",
    "simulate_var_opt(dc_img, './img_sample/dc.xlsx')"
   ]
  },
  {
   "cell_type": "code",
   "execution_count": null,
   "metadata": {},
   "outputs": [],
   "source": [
    "img = Image.open('./img_sample/bl1.jpg')\n",
    "guid_img = img.crop((0,700,img.width,1000))\n",
    "plt.imshow(guid_img)\n",
    "simulate_var_opt(guid_img, './img_sample/guid.xlsx')"
   ]
  },
  {
   "cell_type": "code",
   "execution_count": null,
   "metadata": {},
   "outputs": [],
   "source": [
    "img = Image.open('./img_sample/bl3.jpg')\n",
    "fee_img = img.crop((0,300,img.width,1800))\n",
    "plt.imshow(fee_img)\n",
    "simulate_var_opt(fee_img, './img_sample/fee.xlsx')"
   ]
  }
 ],
 "metadata": {
  "kernelspec": {
   "display_name": "tf",
   "language": "python",
   "name": "tf"
  },
  "language_info": {
   "codemirror_mode": {
    "name": "ipython",
    "version": 3
   },
   "file_extension": ".py",
   "mimetype": "text/x-python",
   "name": "python",
   "nbconvert_exporter": "python",
   "pygments_lexer": "ipython3",
   "version": "3.6.7"
  }
 },
 "nbformat": 4,
 "nbformat_minor": 2
}
